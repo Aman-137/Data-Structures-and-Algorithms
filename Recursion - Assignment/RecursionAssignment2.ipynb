{
 "cells": [
  {
   "cell_type": "code",
   "execution_count": 10,
   "metadata": {},
   "outputs": [],
   "source": [
    "def stringtoInteger(s):\n",
    "    \n",
    "    if len(s) == 1:\n",
    "        return ord(s[0]) - ord('0')  # ord() is a builtin function in python which is used to convert a character to its respective integer value according to ascii table.\n",
    "    \n",
    "    y = stringtoInteger(s[1:])\n",
    "    \n",
    "    x =  ord(s[0]) - ord('0')\n",
    "    \n",
    "    x = x * (10**(len(s) - 1)) + y\n",
    "    return int(x)"
   ]
  },
  {
   "cell_type": "code",
   "execution_count": 25,
   "metadata": {},
   "outputs": [
    {
     "name": "stdout",
     "output_type": "stream",
     "text": [
      "1234\n",
      "1234\n"
     ]
    }
   ],
   "source": [
    "s = str(input())\n",
    "print(stringtoInteger(s))"
   ]
  },
  {
   "cell_type": "code",
   "execution_count": 31,
   "metadata": {},
   "outputs": [
    {
     "name": "stdout",
     "output_type": "stream",
     "text": [
      "2\n"
     ]
    }
   ],
   "source": [
    "value = ord('2') - ord('0')\n",
    "print(value)"
   ]
  },
  {
   "cell_type": "code",
   "execution_count": 49,
   "metadata": {},
   "outputs": [
    {
     "name": "stdout",
     "output_type": "stream",
     "text": [
      "\n",
      "0\n"
     ]
    }
   ],
   "source": [
    "def countZeros(n):\n",
    "    if len(n) == 0:\n",
    "        return 0\n",
    "    smallOutput = countZeros(n-1)\n",
    "    if n/10 == 0:\n",
    "        return countZeros(n/10)\n",
    "    \n",
    "    \n",
    "    if n % 10 == 0:\n",
    "        return smallOutput + 1\n",
    "    else:\n",
    "        return smallOutput\n",
    "\n",
    "n = (input())\n",
    "print(countZeros(n))"
   ]
  },
  {
   "cell_type": "code",
   "execution_count": 63,
   "metadata": {},
   "outputs": [
    {
     "name": "stdout",
     "output_type": "stream",
     "text": [
      "hello\n",
      "hel*lo\n",
      "\n"
     ]
    }
   ],
   "source": [
    "def pairstar(x, y, i=0):\n",
    "    \n",
    "    y = y + x[i]\n",
    "    \n",
    "    if (i == len(x)-1):\n",
    "        print(y)\n",
    "        return\n",
    "    if (x[i] == x[i+1]):\n",
    "        y =y + '*'\n",
    "        \n",
    "    pairstar(x, y, i+1)\n",
    "\n",
    "x = str(input())\n",
    "y = \"\"\n",
    "(pairstar(x, y))\n",
    "print(y)\n"
   ]
  },
  {
   "cell_type": "code",
   "execution_count": 1,
   "metadata": {},
   "outputs": [
    {
     "name": "stdout",
     "output_type": "stream",
     "text": [
      "ge*eks\n"
     ]
    }
   ],
   "source": [
    "# Recursive CPP program to insert * between  \n",
    "# two consecutive same characters.  \n",
    "  \n",
    "# Function to insert * at desired position  \n",
    "def pairStar(Input, Output, i = 0) : \n",
    "      \n",
    "    # Append current character  \n",
    "    Output = Output + Input[i] \n",
    "  \n",
    "    # If we reached last character  \n",
    "    if (i == len(Input) - 1) : \n",
    "        print(Output) \n",
    "        return;  \n",
    "  \n",
    "    # If next character is same,  \n",
    "    # append '*'  \n",
    "    if (Input[i] == Input[i + 1]) :  \n",
    "        Output = Output + '*';  \n",
    "  \n",
    "    pairStar(Input, Output, i + 1);  \n",
    "  \n",
    "# Driver code  \n",
    "if __name__ == \"__main__\" : \n",
    "  \n",
    "    Input = \"geeks\"\n",
    "    Output = \"\" \n",
    "    pairStar(Input, Output);  "
   ]
  },
  {
   "cell_type": "code",
   "execution_count": 7,
   "metadata": {},
   "outputs": [
    {
     "name": "stdout",
     "output_type": "stream",
     "text": [
      "abbabaaa\n",
      "false\n"
     ]
    }
   ],
   "source": [
    "def checkAB(s):\n",
    "    \n",
    "    if len(s) == 0:\n",
    "        return True\n",
    "    \n",
    "    if s[0] == 'a':\n",
    "        if (len(s[1:]) > 1 and s[1:3] == 'bb'):\n",
    "            return checkAB(s[3:])\n",
    "        else:\n",
    "            return checkAB(s[1:])\n",
    "    else:\n",
    "        return False\n",
    "    \n",
    "s = str(input())\n",
    "\n",
    "if (checkAB(s)):\n",
    "    print(\"true\")\n",
    "else:\n",
    "    print(\"false\")"
   ]
  },
  {
   "cell_type": "code",
   "execution_count": 12,
   "metadata": {},
   "outputs": [
    {
     "name": "stdout",
     "output_type": "stream",
     "text": [
      "4\n",
      "7\n"
     ]
    }
   ],
   "source": [
    "def staircase(n):\n",
    "    \n",
    "    if n == 0 or n == 1:\n",
    "        return 1\n",
    "    \n",
    "    elif n == 2:\n",
    "        return 2\n",
    "    \n",
    "    else:\n",
    "        return staircase(n - 3) + staircase(n - 2) + staircase(n - 1)\n",
    "    \n",
    "n = int(input())\n",
    "print(staircase(n))"
   ]
  }
 ],
 "metadata": {
  "kernelspec": {
   "display_name": "Python 3",
   "language": "python",
   "name": "python3"
  },
  "language_info": {
   "codemirror_mode": {
    "name": "ipython",
    "version": 3
   },
   "file_extension": ".py",
   "mimetype": "text/x-python",
   "name": "python",
   "nbconvert_exporter": "python",
   "pygments_lexer": "ipython3",
   "version": "3.8.5"
  }
 },
 "nbformat": 4,
 "nbformat_minor": 4
}
