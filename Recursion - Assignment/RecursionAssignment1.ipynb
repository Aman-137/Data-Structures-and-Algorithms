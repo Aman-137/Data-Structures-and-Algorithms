{
 "cells": [
  {
   "cell_type": "code",
   "execution_count": 63,
   "metadata": {},
   "outputs": [
    {
     "name": "stdout",
     "output_type": "stream",
     "text": [
      "4\n",
      "1.9375\n"
     ]
    }
   ],
   "source": [
    "def geometricSum(k):\n",
    "    if k == 0:\n",
    "        return 1\n",
    "    \n",
    "    return 1/(2**k) + geometricSum(k - 1)\n",
    "\n",
    "k =  int(input())\n",
    "print(geometricSum(k))\n"
   ]
  },
  {
   "cell_type": "code",
   "execution_count": 57,
   "metadata": {},
   "outputs": [
    {
     "name": "stdout",
     "output_type": "stream",
     "text": [
      "geeg\n",
      "true\n"
     ]
    }
   ],
   "source": [
    "def palindromeRec(st, si, ei):\n",
    "    if si == ei:\n",
    "        return True\n",
    "    \n",
    "    if st[si] != st[ei]:\n",
    "        return False\n",
    "    \n",
    "    if (si < ei + 1):\n",
    "        return palindromeRec(st, si+1, ei-1)\n",
    "    return True\n",
    "\n",
    "def isPalindrome(st):\n",
    "    n = len(st)\n",
    "    \n",
    "    if n == 0:\n",
    "        return True\n",
    "    \n",
    "    return palindromeRec(st, 0, n-1)\n",
    "\n",
    "st = str(input())\n",
    "\n",
    "if isPalindrome(st):\n",
    "    print('true')\n",
    "    \n",
    "else:\n",
    "    print('false')"
   ]
  },
  {
   "cell_type": "code",
   "execution_count": 64,
   "metadata": {},
   "outputs": [
    {
     "name": "stdout",
     "output_type": "stream",
     "text": [
      "True\n"
     ]
    }
   ],
   "source": [
    "def isPalRec(st, s, e) : \n",
    "      \n",
    "    # If there is only one character \n",
    "    if (s == e): \n",
    "        return True\n",
    "  \n",
    "    # If first and last \n",
    "    # characters do not match \n",
    "    if (st[s] != st[e]) : \n",
    "        return False\n",
    "  \n",
    "    # If there are more than  \n",
    "    # two characters, check if  \n",
    "    # middle substring is also  \n",
    "    # palindrome or not. \n",
    "    if (s < e + 1) : \n",
    "        return isPalRec(st, s + 1, e - 1); \n",
    "  \n",
    "    return True\n",
    "  \n",
    "def isPalindrome(st) : \n",
    "    n = len(st) \n",
    "      \n",
    "    # An empty string is  \n",
    "    # considered as palindrome \n",
    "    if (n == 0) : \n",
    "        return True\n",
    "      \n",
    "    return isPalRec(st, 0, n - 1); \n",
    "  \n",
    "  \n",
    "# Driver Code \n",
    "st = \"geeg\"\n",
    "if (isPalindrome(st)) : \n",
    "    print(True)\n",
    "else : \n",
    "    print(False)"
   ]
  },
  {
   "cell_type": "code",
   "execution_count": 72,
   "metadata": {},
   "outputs": [
    {
     "name": "stdout",
     "output_type": "stream",
     "text": [
      "1234\n",
      "10\n"
     ]
    }
   ],
   "source": [
    "def sum_of_digit(n):\n",
    "    if n == 0:\n",
    "        return 0\n",
    "    return (n % 10 + sum_of_digit(int(n / 10)))\n",
    "\n",
    "n = int(input())\n",
    "print(sum_of_digit(n))"
   ]
  },
  {
   "cell_type": "code",
   "execution_count": 77,
   "metadata": {},
   "outputs": [
    {
     "name": "stdout",
     "output_type": "stream",
     "text": [
      "1\n",
      "2\n",
      "2\n"
     ]
    }
   ],
   "source": [
    "def multiply(M, N):\n",
    "    \n",
    "    if M < N:\n",
    "        return multiply(N, M)\n",
    "    \n",
    "    elif N != 0:\n",
    "        return (M + multiply(M, N-1))\n",
    "    \n",
    "    else:\n",
    "        return 0\n",
    "    \n",
    "M = int(input())\n",
    "N = int(input())\n",
    "\n",
    "print(multiply(M, N))\n",
    "\n",
    "    \n",
    "    "
   ]
  },
  {
   "cell_type": "code",
   "execution_count": 79,
   "metadata": {},
   "outputs": [
    {
     "name": "stdout",
     "output_type": "stream",
     "text": [
      "6\n",
      "88\n",
      "528\n"
     ]
    }
   ],
   "source": [
    "def multiply(M, N):\n",
    "    \n",
    "    if N != 0:\n",
    "        return (M + multiply(M, N-1))\n",
    "    \n",
    "    else:\n",
    "        return 0\n",
    "    \n",
    "M = int(input())\n",
    "N = int(input())\n",
    "\n",
    "print(multiply(M, N))\n"
   ]
  }
 ],
 "metadata": {
  "kernelspec": {
   "display_name": "Python 3",
   "language": "python",
   "name": "python3"
  },
  "language_info": {
   "codemirror_mode": {
    "name": "ipython",
    "version": 3
   },
   "file_extension": ".py",
   "mimetype": "text/x-python",
   "name": "python",
   "nbconvert_exporter": "python",
   "pygments_lexer": "ipython3",
   "version": "3.8.5"
  }
 },
 "nbformat": 4,
 "nbformat_minor": 4
}
