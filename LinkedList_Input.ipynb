{
 "cells": [
  {
   "cell_type": "code",
   "execution_count": 8,
   "metadata": {},
   "outputs": [
    {
     "name": "stdout",
     "output_type": "stream",
     "text": [
      "1 2 3 4 5 6 -1\n",
      "1->2->3->4->5->6->None\n",
      "1->2->3->4->5->6->None\n"
     ]
    }
   ],
   "source": [
    "class Node:\n",
    "    \n",
    "    def __init__(self, data):\n",
    "        self.data = data\n",
    "        self.next = None\n",
    "\n",
    "def printLL(head):   # This \"head\" is different from the last line printLL(head) because this \"head\" is a local varible of the printLL() function.\n",
    "    \n",
    "    while head is not None:\n",
    "        print(str(head.data) + \"->\", end=\"\")\n",
    "        head = head.next\n",
    "    print(\"None\")\n",
    "    return\n",
    "\n",
    "def takeInput():\n",
    "    \n",
    "    inputList = [int(elem) for elem in input().split()]\n",
    "    head = None\n",
    "    \n",
    "    for currData in inputList:\n",
    "        if currData == -1:\n",
    "            break\n",
    "            \n",
    "        newNode =  Node(currData)\n",
    "        \n",
    "        if head is None:\n",
    "            head = newNode\n",
    "\n",
    "        else:\n",
    "            curr = head\n",
    "            \n",
    "            while curr.next is not None:\n",
    "                curr = curr.next\n",
    "            \n",
    "            curr.next = newNode\n",
    "            \n",
    "    return head\n",
    "\n",
    "\n",
    "head = takeInput()\n",
    "printLL(head)\n",
    "printLL(head)"
   ]
  },
  {
   "cell_type": "code",
   "execution_count": 10,
   "metadata": {},
   "outputs": [
    {
     "name": "stdout",
     "output_type": "stream",
     "text": [
      "2 3 4 9 3 4 5 -1\n",
      "2->3->4->9->3->4->5->None\n"
     ]
    }
   ],
   "source": [
    "# Linked List - 2\n",
    "\n",
    "class Node:\n",
    "    \n",
    "    def __init__(self, data):\n",
    "        self.data = data\n",
    "        self.next = None\n",
    "\n",
    "def printLL(head):   # This \"head\" is different from the last line printLL(head) because this \"head\" is a local varible of the printLL() function.\n",
    "    \n",
    "    while head is not None:\n",
    "        print(str(head.data) + \"->\", end=\"\")\n",
    "        head = head.next\n",
    "    print(\"None\")\n",
    "    return\n",
    "\n",
    "def takeInput():\n",
    "    \n",
    "    inputList = [int(elem) for elem in input().split()]\n",
    "    head = None\n",
    "    tail = None\n",
    "    \n",
    "    for currData in inputList:\n",
    "        if currData == -1:\n",
    "            break\n",
    "            \n",
    "        newNode =  Node(currData)\n",
    "        \n",
    "        if head is None:\n",
    "            head = newNode\n",
    "            tail = newNode\n",
    "\n",
    "        else:\n",
    "            tail.next = newNode\n",
    "            tail = newNode\n",
    "\n",
    "            \n",
    "    return head\n",
    "\n",
    "\n",
    "head = takeInput()\n",
    "printLL(head)\n",
    "#printLL(head)"
   ]
  },
  {
   "cell_type": "code",
   "execution_count": 15,
   "metadata": {},
   "outputs": [
    {
     "ename": "ValueError",
     "evalue": "invalid literal for int() with base 10: ''",
     "output_type": "error",
     "traceback": [
      "\u001b[1;31m---------------------------------------------------------------------------\u001b[0m",
      "\u001b[1;31mValueError\u001b[0m                                Traceback (most recent call last)",
      "\u001b[1;32m<ipython-input-15-673aba3c3076>\u001b[0m in \u001b[0;36m<module>\u001b[1;34m\u001b[0m\n\u001b[0;32m     43\u001b[0m \u001b[1;33m\u001b[0m\u001b[0m\n\u001b[0;32m     44\u001b[0m \u001b[1;31m#main\u001b[0m\u001b[1;33m\u001b[0m\u001b[1;33m\u001b[0m\u001b[1;33m\u001b[0m\u001b[0m\n\u001b[1;32m---> 45\u001b[1;33m \u001b[0mt\u001b[0m \u001b[1;33m=\u001b[0m \u001b[0mint\u001b[0m\u001b[1;33m(\u001b[0m\u001b[0mstdin\u001b[0m\u001b[1;33m.\u001b[0m\u001b[0mreadline\u001b[0m\u001b[1;33m(\u001b[0m\u001b[1;33m)\u001b[0m\u001b[1;33m.\u001b[0m\u001b[0mrstrip\u001b[0m\u001b[1;33m(\u001b[0m\u001b[1;33m)\u001b[0m\u001b[1;33m)\u001b[0m\u001b[1;33m\u001b[0m\u001b[1;33m\u001b[0m\u001b[0m\n\u001b[0m\u001b[0;32m     46\u001b[0m \u001b[1;33m\u001b[0m\u001b[0m\n\u001b[0;32m     47\u001b[0m \u001b[1;32mwhile\u001b[0m \u001b[0mt\u001b[0m \u001b[1;33m>\u001b[0m \u001b[1;36m0\u001b[0m \u001b[1;33m:\u001b[0m\u001b[1;33m\u001b[0m\u001b[1;33m\u001b[0m\u001b[0m\n",
      "\u001b[1;31mValueError\u001b[0m: invalid literal for int() with base 10: ''"
     ]
    }
   ],
   "source": [
    "# Linked List - 2\n",
    "from sys import stdin\n",
    "\n",
    "class Node:\n",
    "    \n",
    "    def __init__(self, data):\n",
    "        self.data = data\n",
    "        self.next = None\n",
    "\n",
    "\n",
    "def takeInput():\n",
    "    \n",
    "    inputList = [int(elem) for elem in input().split()]\n",
    "    head = None\n",
    "    tail = None\n",
    "    \n",
    "    for currData in inputList:\n",
    "        if currData == -1:\n",
    "            break\n",
    "            \n",
    "        newNode =  Node(currData)\n",
    "        \n",
    "        if head is None:\n",
    "            head = newNode\n",
    "            tail = newNode\n",
    "\n",
    "        else:\n",
    "            tail.next = newNode\n",
    "            tail = newNode\n",
    "\n",
    "            \n",
    "    return head\n",
    "\n",
    "\n",
    "def printLL(head):   # This \"head\" is different from the last line printLL(head) because this \"head\" is a local varible of the printLL() function.\n",
    "    \n",
    "    while head is not None:\n",
    "        print(str(head.data) + \"->\", end=\"\")\n",
    "        head = head.next\n",
    "    print(\"None\")\n",
    "    return\n",
    "\n",
    "\n",
    "#main\n",
    "t = int(stdin.readline().rstrip())\n",
    "\n",
    "while t > 0 :\n",
    "\n",
    "    head = takeInput()\n",
    "    print(length(head))\n",
    "\n",
    "    t -= 1"
   ]
  }
 ],
 "metadata": {
  "kernelspec": {
   "display_name": "Python 3",
   "language": "python",
   "name": "python3"
  },
  "language_info": {
   "codemirror_mode": {
    "name": "ipython",
    "version": 3
   },
   "file_extension": ".py",
   "mimetype": "text/x-python",
   "name": "python",
   "nbconvert_exporter": "python",
   "pygments_lexer": "ipython3",
   "version": "3.8.5"
  }
 },
 "nbformat": 4,
 "nbformat_minor": 4
}
