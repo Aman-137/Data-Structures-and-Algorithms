{
 "cells": [
  {
   "cell_type": "code",
   "execution_count": 1,
   "metadata": {},
   "outputs": [],
   "source": [
    "class BinaryTreeNode:\n",
    "    \n",
    "    def __init__(self, data):\n",
    "        self.data = data\n",
    "        self.left = None\n",
    "        self.right = None\n",
    "\n",
    "def printTree(root):\n",
    "    \n",
    "    if root == None:\n",
    "        return\n",
    "    \n",
    "    print(root.data)\n",
    "    printTree(root.left)\n",
    "    printTree(root.right)\n",
    "\n",
    "def printTreeDetailed(root):\n",
    "    \n",
    "    if root == None:\n",
    "        return\n",
    "    \n",
    "    print(root.data, end = \":\")\n",
    "    \n",
    "    if root.left != None:\n",
    "        print(\"L\", root.left.data, end = \",\")\n",
    "    \n",
    "    if root.right != None:\n",
    "        print(\"R\", root.right.data, end = \"\")\n",
    "    \n",
    "    print()\n",
    "    \n",
    "    printTreeDetailed(root.left)\n",
    "    printTreeDetailed(root.right)\n",
    "\n",
    "def treeInput():\n",
    "    \n",
    "    rootData = int(input())\n",
    "    \n",
    "    if rootData == -1:\n",
    "        return None\n",
    "    \n",
    "    root = BinaryTreeNode(rootData)\n",
    "    leftTree = treeInput()\n",
    "    rightTree = treeInput()\n",
    "    root.left = leftTree\n",
    "    root.right = rightTree\n",
    "    \n",
    "    return root"
   ]
  },
  {
   "cell_type": "code",
   "execution_count": 7,
   "metadata": {},
   "outputs": [
    {
     "data": {
      "text/plain": [
       "15"
      ]
     },
     "execution_count": 7,
     "metadata": {},
     "output_type": "execute_result"
    }
   ],
   "source": [
    "a = 10\n",
    "b = 5\n",
    "c = 15\n",
    "max(a, b, c)"
   ]
  },
  {
   "cell_type": "code",
   "execution_count": 6,
   "metadata": {},
   "outputs": [],
   "source": [
    "def largestData(root):\n",
    "    \n",
    "    if root == None:\n",
    "        return -1       # ideally return (-infinity)\n",
    "    \n",
    "    leftLargest = largestData(root.left)\n",
    "    rightLargest = largestData(root.right)\n",
    "    largest = max(leftLargest, rightLargest, root.data)\n",
    "    return largest"
   ]
  },
  {
   "cell_type": "code",
   "execution_count": 9,
   "metadata": {},
   "outputs": [
    {
     "name": "stdout",
     "output_type": "stream",
     "text": [
      "10\n",
      "20\n",
      "5\n",
      "-1\n",
      "-1\n",
      "9\n",
      "-1\n",
      "-1\n",
      "3\n",
      "-1\n",
      "-1\n",
      "10:L 20,R 3\n",
      "20:L 5,R 9\n",
      "5:\n",
      "9:\n",
      "3:\n"
     ]
    },
    {
     "data": {
      "text/plain": [
       "20"
      ]
     },
     "execution_count": 9,
     "metadata": {},
     "output_type": "execute_result"
    }
   ],
   "source": [
    "root = treeInput()\n",
    "printTreeDetailed(root)\n",
    "largestData(root)"
   ]
  }
 ],
 "metadata": {
  "kernelspec": {
   "display_name": "Python 3",
   "language": "python",
   "name": "python3"
  },
  "language_info": {
   "codemirror_mode": {
    "name": "ipython",
    "version": 3
   },
   "file_extension": ".py",
   "mimetype": "text/x-python",
   "name": "python",
   "nbconvert_exporter": "python",
   "pygments_lexer": "ipython3",
   "version": "3.8.6rc1"
  }
 },
 "nbformat": 4,
 "nbformat_minor": 4
}
