{
 "cells": [
  {
   "cell_type": "code",
   "execution_count": 1,
   "metadata": {},
   "outputs": [
    {
     "name": "stdout",
     "output_type": "stream",
     "text": [
      "7\n",
      "1 2 3 4 5 6 7\n",
      "4 2 1 3 6 5 7 "
     ]
    }
   ],
   "source": [
    "import queue\n",
    "class BinaryTreeNode:\n",
    "    def __init__(self, data):\n",
    "        self.data = data\n",
    "        self.left = None\n",
    "        self.right = None\n",
    "\n",
    "def constructBST(lst):\n",
    "    #############################\n",
    "    # PLEASE ADD YOUR CODE HERE #\n",
    "    #############################\n",
    "    n = len(lst)\n",
    "    \n",
    "    if lst == None or n <=0:\n",
    "        return None\n",
    "    \n",
    "    rootindex =  (n-1)//2\n",
    "    \n",
    "    root = BinaryTreeNode(lst[rootindex])\n",
    "    root.left = constructBST(lst[:rootindex])\n",
    "    root.right = constructBST(lst[rootindex + 1:])\n",
    "    return root\n",
    "    \n",
    "    \n",
    "\n",
    "def preOrder(root):\n",
    "    # Given a binary tree, print the preorder traversal of given tree. Pre-order\n",
    "    # traversal is: Root LeftChild RightChild\n",
    "    if root==None:\n",
    "        return\n",
    "    print(root.data, end=' ')\n",
    "    preOrder(root.left)\n",
    "    preOrder(root.right)\n",
    "\n",
    "# Main\n",
    "n=int(input())\n",
    "if(n>0):\n",
    "    lst=[int(i) for i in input().strip().split()]\n",
    "else:\n",
    "    lst=[]\n",
    "root=constructBST(lst)\n",
    "preOrder(root)"
   ]
  }
 ],
 "metadata": {
  "kernelspec": {
   "display_name": "Python 3",
   "language": "python",
   "name": "python3"
  },
  "language_info": {
   "codemirror_mode": {
    "name": "ipython",
    "version": 3
   },
   "file_extension": ".py",
   "mimetype": "text/x-python",
   "name": "python",
   "nbconvert_exporter": "python",
   "pygments_lexer": "ipython3",
   "version": "3.8.6rc1"
  }
 },
 "nbformat": 4,
 "nbformat_minor": 4
}
