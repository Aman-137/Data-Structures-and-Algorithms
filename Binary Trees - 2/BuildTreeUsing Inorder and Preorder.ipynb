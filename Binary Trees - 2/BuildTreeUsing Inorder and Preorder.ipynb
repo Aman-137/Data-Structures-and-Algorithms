{
 "cells": [
  {
   "cell_type": "code",
   "execution_count": 6,
   "metadata": {},
   "outputs": [],
   "source": [
    "class BinaryTreeNode:\n",
    "    \n",
    "    def __init__(self, data):\n",
    "        self.data = data\n",
    "        self.left = None\n",
    "        self.right = None\n",
    "\n",
    "def printTree(root):\n",
    "    \n",
    "    if root == None:\n",
    "        return\n",
    "    \n",
    "    print(root.data)\n",
    "    printTree(root.left)\n",
    "    printTree(root.right)\n",
    "\n",
    "def printTreeDetailed(root):\n",
    "    \n",
    "    if root == None:\n",
    "        return\n",
    "    \n",
    "    print(root.data, end = \":\")\n",
    "    \n",
    "    if root.left != None:\n",
    "        print(\"L\", root.left.data, end = \",\")\n",
    "    \n",
    "    if root.right != None:\n",
    "        print(\"R\", root.right.data, end = \"\")\n",
    "    \n",
    "    print()\n",
    "    \n",
    "    printTreeDetailed(root.left)\n",
    "    printTreeDetailed(root.right)\n"
   ]
  },
  {
   "cell_type": "code",
   "execution_count": 9,
   "metadata": {},
   "outputs": [],
   "source": [
    "def buildTreeFromPreIn(pre, inorder):\n",
    "    \n",
    "    if len(pre) == 0:\n",
    "        return None\n",
    "    \n",
    "    rootData = pre[0]\n",
    "    root = BinaryTreeNode(rootData)\n",
    "    rootIndexInInorder = -1\n",
    "    for i in range(0, len(inorder)):\n",
    "        if inorder[i] == rootData:\n",
    "            rootIndexInInorder = i\n",
    "            break\n",
    "    \n",
    "    if rootIndexInInorder == -1:\n",
    "        return None\n",
    "    \n",
    "    leftInorder = inorder[0:rootIndexInInorder]\n",
    "    rightInorder = inorder[rootIndexInInorder + 1:]\n",
    "    \n",
    "    lenLeftSubtree = len(leftInorder)\n",
    "    \n",
    "    leftPreorder = pre[1:lenLeftSubtree + 1]\n",
    "    rightPreorder = pre[lenLeftSubtree + 1:]\n",
    "    \n",
    "    leftChild = buildTreeFromPreIn(leftPreorder, leftInorder)\n",
    "    rightChild = buildTreeFromPreIn(rightPreorder, rightInorder)\n",
    "    \n",
    "    root.left = leftChild\n",
    "    root.right = rightChild\n",
    "    \n",
    "    return root"
   ]
  },
  {
   "cell_type": "code",
   "execution_count": 10,
   "metadata": {},
   "outputs": [
    {
     "name": "stdout",
     "output_type": "stream",
     "text": [
      "1:L 2,R 3\n",
      "2:L 4,R 5\n",
      "4:\n",
      "5:\n",
      "3:L 6,R 7\n",
      "6:\n",
      "7:\n"
     ]
    }
   ],
   "source": [
    "pre = [1, 2, 4, 5, 3, 6, 7]\n",
    "inorder = [4, 2, 5, 1, 6, 3, 7]\n",
    "\n",
    "root = buildTreeFromPreIn(pre, inorder)\n",
    "printTreeDetailed(root)"
   ]
  }
 ],
 "metadata": {
  "kernelspec": {
   "display_name": "Python 3",
   "language": "python",
   "name": "python3"
  },
  "language_info": {
   "codemirror_mode": {
    "name": "ipython",
    "version": 3
   },
   "file_extension": ".py",
   "mimetype": "text/x-python",
   "name": "python",
   "nbconvert_exporter": "python",
   "pygments_lexer": "ipython3",
   "version": "3.8.5"
  }
 },
 "nbformat": 4,
 "nbformat_minor": 4
}
