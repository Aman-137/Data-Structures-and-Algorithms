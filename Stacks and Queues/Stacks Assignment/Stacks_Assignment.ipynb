{
 "cells": [
  {
   "cell_type": "code",
   "execution_count": 1,
   "metadata": {},
   "outputs": [
    {
     "name": "stdout",
     "output_type": "stream",
     "text": [
      "false\n"
     ]
    }
   ],
   "source": [
    "# Check Redundant Brackets.\n",
    "\n",
    "\n",
    "\n",
    "from sys import stdin\n",
    "\n",
    "def checkRedundantBrackets(expression) :\n",
    "\t# Your code goes here\n",
    "    s = []\n",
    "    \n",
    "    for char in expression:\n",
    "        \n",
    "        if (char == ')'):\n",
    "            \n",
    "            top = s[-1]\n",
    "            s.pop()\n",
    "            \n",
    "            flag = True\n",
    "            \n",
    "            while (top != '('):\n",
    "                \n",
    "                if (top == '+' or top == '-' or\n",
    "                   top == '*' or top == '/'):\n",
    "                    \n",
    "                    flag = False\n",
    "                \n",
    "                top = s[-1]\n",
    "                s.pop()\n",
    "                \n",
    "            \n",
    "            if (flag == True):\n",
    "                return True\n",
    "            \n",
    "        else:\n",
    "            s.append(char)\n",
    "            \n",
    "            \n",
    "    return False\n",
    "\n",
    "\n",
    "\n",
    "\n",
    "\n",
    "\n",
    "\n",
    "\n",
    "#main\n",
    "expression = stdin.readline().strip()\n",
    "\n",
    "if checkRedundantBrackets(expression) :\n",
    "\tprint(\"true\")\n",
    "\n",
    "else :\n",
    "\tprint(\"false\")\n"
   ]
  },
  {
   "cell_type": "code",
   "execution_count": 3,
   "metadata": {},
   "outputs": [
    {
     "name": "stdout",
     "output_type": "stream",
     "text": [
      "5 4 2 7 6 8 4 9 16\n"
     ]
    },
    {
     "ename": "ValueError",
     "evalue": "invalid literal for int() with base 10: '5 4 2 7 6 8 4 9 16'",
     "output_type": "error",
     "traceback": [
      "\u001b[1;31m---------------------------------------------------------------------------\u001b[0m",
      "\u001b[1;31mValueError\u001b[0m                                Traceback (most recent call last)",
      "\u001b[1;32m<ipython-input-3-b4c6ca0e4619>\u001b[0m in \u001b[0;36m<module>\u001b[1;34m\u001b[0m\n\u001b[0;32m     22\u001b[0m     \u001b[1;32mreturn\u001b[0m \u001b[0mspans\u001b[0m\u001b[1;33m\u001b[0m\u001b[1;33m\u001b[0m\u001b[0m\n\u001b[0;32m     23\u001b[0m \u001b[1;33m\u001b[0m\u001b[0m\n\u001b[1;32m---> 24\u001b[1;33m \u001b[0mn\u001b[0m \u001b[1;33m=\u001b[0m \u001b[0mint\u001b[0m\u001b[1;33m(\u001b[0m\u001b[0minput\u001b[0m\u001b[1;33m(\u001b[0m\u001b[1;33m)\u001b[0m\u001b[1;33m)\u001b[0m\u001b[1;33m\u001b[0m\u001b[1;33m\u001b[0m\u001b[0m\n\u001b[0m\u001b[0;32m     25\u001b[0m \u001b[0mprice\u001b[0m \u001b[1;33m=\u001b[0m \u001b[1;33m[\u001b[0m\u001b[0mint\u001b[0m\u001b[1;33m(\u001b[0m\u001b[0mele\u001b[0m\u001b[1;33m)\u001b[0m \u001b[1;32mfor\u001b[0m \u001b[0mele\u001b[0m \u001b[1;32min\u001b[0m \u001b[0minput\u001b[0m\u001b[1;33m(\u001b[0m\u001b[1;33m)\u001b[0m\u001b[1;33m.\u001b[0m\u001b[0msplit\u001b[0m\u001b[1;33m(\u001b[0m\u001b[1;33m)\u001b[0m\u001b[1;33m]\u001b[0m\u001b[1;33m\u001b[0m\u001b[1;33m\u001b[0m\u001b[0m\n\u001b[0;32m     26\u001b[0m \u001b[0mspans\u001b[0m \u001b[1;33m=\u001b[0m \u001b[0mstockSpan\u001b[0m\u001b[1;33m(\u001b[0m\u001b[0mprice\u001b[0m\u001b[1;33m,\u001b[0m\u001b[0mn\u001b[0m\u001b[1;33m)\u001b[0m\u001b[1;33m\u001b[0m\u001b[1;33m\u001b[0m\u001b[0m\n",
      "\u001b[1;31mValueError\u001b[0m: invalid literal for int() with base 10: '5 4 2 7 6 8 4 9 16'"
     ]
    }
   ],
   "source": [
    "# Stock Span.\n",
    "\n",
    "\n",
    "\n",
    "def stockSpan(price,n):\n",
    "    s = []\n",
    "    spans = []\n",
    "    s.append(0)\n",
    "    spans.append(1)\n",
    "    for i in range(1,n):\n",
    "        if price[i]<=price[s[-1]]:\n",
    "            spans.append(1)\n",
    "            s.append(i)\n",
    "        else:\n",
    "            while len(s)>0 and price[i] > price[s[-1]]:\n",
    "                s.pop()\n",
    "            if len(s)==0:\n",
    "                spans.append(i+1)\n",
    "            else:\n",
    "                spans.append(i-s[-1])\n",
    "            s.append(i)\n",
    "    return spans\n",
    "\n",
    "n = int(input())\n",
    "price = [int(ele) for ele in input().split()]\n",
    "spans = stockSpan(price,n)\n",
    "for ele in spans:\n",
    "    print(ele,end= ' ')\n",
    "\n",
    "\n",
    "\n",
    "\n"
   ]
  },
  {
   "cell_type": "code",
   "execution_count": 2,
   "metadata": {},
   "outputs": [
    {
     "name": "stdout",
     "output_type": "stream",
     "text": [
      "0\n"
     ]
    }
   ],
   "source": [
    "# Minimum Brackets Reversal.\n",
    "\n",
    "\n",
    "\n",
    "from sys import stdin\n",
    "\n",
    "def countBracketReversals(inputString) :\n",
    "    # Your code goes here\n",
    "    if len(inputString) % 2:\n",
    "        return -1\n",
    "    \n",
    "    inversions = 0\n",
    "    open = 0\n",
    "    \n",
    "    for i in range(len(inputString)):\n",
    "        \n",
    "        if inputString[i] == '{':\n",
    "            \n",
    "            open += 1\n",
    "        \n",
    "        else:\n",
    "            if open:\n",
    "                open = open - 1\n",
    "                \n",
    "            else:\n",
    "                inversions += 1\n",
    "                open = 1\n",
    "                \n",
    "                \n",
    "                \n",
    "    return inversions + open // 2\n",
    "                \n",
    "\n",
    "\n",
    "\n",
    "\n",
    "\n",
    "\n",
    "#main\n",
    "print(countBracketReversals(stdin.readline().strip()))\n"
   ]
  }
 ],
 "metadata": {
  "kernelspec": {
   "display_name": "Python 3",
   "language": "python",
   "name": "python3"
  },
  "language_info": {
   "codemirror_mode": {
    "name": "ipython",
    "version": 3
   },
   "file_extension": ".py",
   "mimetype": "text/x-python",
   "name": "python",
   "nbconvert_exporter": "python",
   "pygments_lexer": "ipython3",
   "version": "3.8.6rc1"
  }
 },
 "nbformat": 4,
 "nbformat_minor": 4
}
