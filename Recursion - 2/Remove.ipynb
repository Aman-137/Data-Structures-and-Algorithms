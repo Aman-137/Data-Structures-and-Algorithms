{
 "cells": [
  {
   "cell_type": "code",
   "execution_count": 23,
   "metadata": {},
   "outputs": [
    {
     "name": "stdout",
     "output_type": "stream",
     "text": [
      "hexxo\n",
      "heo\n"
     ]
    }
   ],
   "source": [
    "def removeX(s):\n",
    "    if len(s) == 0:\n",
    "        return s\n",
    "    smallOutput = removeX(s[1:])\n",
    "    if s[0] == 'x':       \n",
    "        return smallOutput\n",
    "    else:\n",
    "        return s[0] + smallOutput\n",
    "\n",
    "#s = input()\n",
    "#print(removeX(s))"
   ]
  },
  {
   "cell_type": "code",
   "execution_count": 9,
   "metadata": {},
   "outputs": [
    {
     "data": {
      "text/plain": [
       "'abahbahanan'"
      ]
     },
     "execution_count": 9,
     "metadata": {},
     "output_type": "execute_result"
    }
   ],
   "source": [
    "removeX(\"abxahxbahxananxxxx\")"
   ]
  },
  {
   "cell_type": "code",
   "execution_count": 16,
   "metadata": {},
   "outputs": [],
   "source": [
    "def removeConsecutiveDuplicates(s):\n",
    "    if len(s) == 0  or len(s) == 1:\n",
    "        return s\n",
    "    \n",
    "    smaller = s[1:]\n",
    "    smallOutput= removeConsecutiveDuplicates(smaller)\n",
    "    \n",
    "    if s[0] == s[1]:\n",
    "        return smallOutput\n",
    "    else:\n",
    "        return s[0] + smallOutput\n",
    "\n",
    "#s = input().strip()\n",
    "#print(removeConsecutiveDuplicates(s))"
   ]
  },
  {
   "cell_type": "code",
   "execution_count": 20,
   "metadata": {},
   "outputs": [
    {
     "data": {
      "text/plain": [
       "'abcdefghijklx'"
      ]
     },
     "execution_count": 20,
     "metadata": {},
     "output_type": "execute_result"
    }
   ],
   "source": [
    "removeConsecutiveDuplicates('abbcddeffggghhhijkllxxx')"
   ]
  }
 ],
 "metadata": {
  "kernelspec": {
   "display_name": "Python 3",
   "language": "python",
   "name": "python3"
  },
  "language_info": {
   "codemirror_mode": {
    "name": "ipython",
    "version": 3
   },
   "file_extension": ".py",
   "mimetype": "text/x-python",
   "name": "python",
   "nbconvert_exporter": "python",
   "pygments_lexer": "ipython3",
   "version": "3.8.5"
  }
 },
 "nbformat": 4,
 "nbformat_minor": 4
}
