{
 "cells": [
  {
   "cell_type": "code",
   "execution_count": 10,
   "metadata": {},
   "outputs": [],
   "source": [
    "def merge(a1, a2, a):\n",
    "    i = 0\n",
    "    j = 0\n",
    "    k = 0\n",
    "    while i < len(a1) and j < len(a2):\n",
    "        if (a1[i] < a2[j]):\n",
    "            a[k] = a1[i]\n",
    "            k = k + 1\n",
    "            i = i + 1\n",
    "        else:\n",
    "            a[k] = a2[j]\n",
    "            k = k + 1\n",
    "            j = j + 1\n",
    "    \n",
    "    while i < len(a1):\n",
    "        a[k] = a1[i]\n",
    "        k = k + 1\n",
    "        i = i + 1\n",
    "    while j < len(a2):\n",
    "        a[k] = a2[j]\n",
    "        k = k + 1\n",
    "        j = j + 1\n",
    "        \n",
    "def merge_sort(a):\n",
    "    if len(a) == 0 or len(a) == 1:\n",
    "        return\n",
    "    \n",
    "    mid = len(a)//2\n",
    "    a1 = a[0:mid]\n",
    "    a2 = a[mid:]\n",
    "    merge_sort(a1)\n",
    "    merge_sort(a2)\n",
    "    \n",
    "    merge(a1, a2, a)\n",
    "    "
   ]
  },
  {
   "cell_type": "code",
   "execution_count": 11,
   "metadata": {},
   "outputs": [
    {
     "data": {
      "text/plain": [
       "[1, 3, 4, 5, 6, 8, 9, 10]"
      ]
     },
     "execution_count": 11,
     "metadata": {},
     "output_type": "execute_result"
    }
   ],
   "source": [
    "a = [10, 9, 8, 3, 1, 5, 4, 6]\n",
    "merge_sort(a)\n",
    "a"
   ]
  },
  {
   "cell_type": "code",
   "execution_count": 2,
   "metadata": {},
   "outputs": [
    {
     "name": "stdout",
     "output_type": "stream",
     "text": [
      "5\n",
      "1 3 4 0 9\n",
      "0 1 3 4 9\n"
     ]
    }
   ],
   "source": [
    "def mergeSort(a, a1, a2):\n",
    "    # Please add your code here\n",
    "    size = a2 - a1\n",
    "    if size <= 1:\n",
    "        return\n",
    "    mid = (a1 + a2)//2\n",
    "    mergeSort(a, a1, mid)\n",
    "    mergeSort(a, mid, a2)\n",
    "    \n",
    "    result = [0] * size\n",
    "    i = a1\n",
    "    j = mid\n",
    "    k = 0    \n",
    "    while (i<mid and j<a2):\n",
    "        if (a[i] < a[j]):\n",
    "            result[k] = a[i]\n",
    "            k += 1\n",
    "            i += 1\n",
    "        else:\n",
    "            result[k] = a[j]\n",
    "            k += 1\n",
    "            j += 1\n",
    "    while (i<mid):\n",
    "        result[k] = a[i]\n",
    "        k += 1\n",
    "        i += 1\n",
    "    while (j<a2):\n",
    "        result[k] = a[j]\n",
    "        k += 1\n",
    "        j += 1\n",
    "    \n",
    "    for i in range(0,size):\n",
    "        a[a1+i] = result[i]\n",
    "    pass\n",
    "\n",
    "# Main\n",
    "n=int(input())\n",
    "a=list(int(i) for i in input().strip().split(' '))\n",
    "mergeSort(a, 0, n)\n",
    "print(*a)\n"
   ]
  }
 ],
 "metadata": {
  "kernelspec": {
   "display_name": "Python 3",
   "language": "python",
   "name": "python3"
  },
  "language_info": {
   "codemirror_mode": {
    "name": "ipython",
    "version": 3
   },
   "file_extension": ".py",
   "mimetype": "text/x-python",
   "name": "python",
   "nbconvert_exporter": "python",
   "pygments_lexer": "ipython3",
   "version": "3.8.5"
  }
 },
 "nbformat": 4,
 "nbformat_minor": 4
}
