{
 "cells": [
  {
   "cell_type": "code",
   "execution_count": 6,
   "metadata": {},
   "outputs": [],
   "source": [
    "def partition(a, si, ei):\n",
    "    pivot = a[si]\n",
    "    \n",
    "    # Find number of elements smaller than pivot.\n",
    "    c = 0   # Count.\n",
    "    for i in range(si, ei+1):\n",
    "        if a[i] < pivot:\n",
    "            c = c + 1\n",
    "        \n",
    "    a[si+c], a[si] = a[si], a[si+c]\n",
    "    \n",
    "    pivot_index = si + c\n",
    "    \n",
    "    i = si\n",
    "    j = ei\n",
    "    while i < j:\n",
    "        if a[i] < pivot:\n",
    "            i = i + 1\n",
    "        elif a[j] >= pivot:\n",
    "            j = j  - 1\n",
    "        else:\n",
    "            a[i], a[j] = a[j], a[i]\n",
    "    \n",
    "    return pivot_index"
   ]
  },
  {
   "cell_type": "code",
   "execution_count": 8,
   "metadata": {},
   "outputs": [],
   "source": [
    "def quick_sort(a, si, ei):\n",
    "    if si >= ei:\n",
    "        return\n",
    "    \n",
    "    pivot_index = partition(a, si, ei)\n",
    "    \n",
    "    quick_sort(a, si, pivot_index - 1)\n",
    "    quick_sort(a, pivot_index + 1, ei)\n",
    "    "
   ]
  },
  {
   "cell_type": "code",
   "execution_count": 17,
   "metadata": {},
   "outputs": [
    {
     "data": {
      "text/plain": [
       "[1, 2, 3, 4, 5, 6, 7, 8, 9, 10]"
      ]
     },
     "execution_count": 17,
     "metadata": {},
     "output_type": "execute_result"
    }
   ],
   "source": [
    "a = [6, 10, 9, 7, 8, 3, 5, 4, 2, 1]\n",
    "#print(partition(a, 0, len(a)-1))\n",
    "(quick_sort(a, 0, len(a)-1))\n",
    "a"
   ]
  },
  {
   "cell_type": "code",
   "execution_count": 1,
   "metadata": {},
   "outputs": [
    {
     "name": "stdout",
     "output_type": "stream",
     "text": [
      "5\n",
      "1 0 6 9 2 \n",
      "0 1 2 6 9\n"
     ]
    }
   ],
   "source": [
    "def quickSort(arr, start, end):\n",
    "    # Please add your code here\n",
    "    if start >= end:\n",
    "        return\n",
    "    pivot_index = partition(arr, start, end)\n",
    "    quickSort(arr, start, pivot_index - 1)\n",
    "    quickSort(arr, pivot_index + 1, end)\n",
    "\n",
    "def partition(arr, start, end):\n",
    "    pivot = arr[start]\n",
    "    c = 0\n",
    "    for i in range(start, end+1):\n",
    "        if arr[i] < pivot:\n",
    "            c = c + 1\n",
    "    arr[start+c], arr[start] = arr[start], arr[start+c]\n",
    "    pivot_index = start + c\n",
    "    \n",
    "    i = start\n",
    "    j = end\n",
    "    while i < j:\n",
    "        if arr[i] < pivot:\n",
    "            i = i + 1\n",
    "        elif arr[j] >= pivot:\n",
    "            j = j - 1\n",
    "        else:\n",
    "            arr[i], arr[j] = arr[j], arr[i]\n",
    "    return pivot_index   \n",
    "    \n",
    "    pass\n",
    "\n",
    "n=int(input())\n",
    "arr=list(int(i) for i in input().strip().split(' '))\n",
    "quickSort(arr, 0, n-1)\n",
    "print(*arr)\n"
   ]
  }
 ],
 "metadata": {
  "kernelspec": {
   "display_name": "Python 3",
   "language": "python",
   "name": "python3"
  },
  "language_info": {
   "codemirror_mode": {
    "name": "ipython",
    "version": 3
   },
   "file_extension": ".py",
   "mimetype": "text/x-python",
   "name": "python",
   "nbconvert_exporter": "python",
   "pygments_lexer": "ipython3",
   "version": "3.8.5"
  }
 },
 "nbformat": 4,
 "nbformat_minor": 4
}
