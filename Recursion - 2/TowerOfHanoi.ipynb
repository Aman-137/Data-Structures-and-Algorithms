{
 "cells": [
  {
   "cell_type": "code",
   "execution_count": 39,
   "metadata": {},
   "outputs": [
    {
     "name": "stdout",
     "output_type": "stream",
     "text": [
      "4\n",
      "Move disk 1 from rod a to rod b\n",
      "Move disk 2 from rod a to rod c\n",
      "Move disk 1 from rod b to rod c\n",
      "Move disk 3 from rod a to rod b\n",
      "Move disk 1 from rod c to rod a\n",
      "Move disk 2 from rod c to rod b\n",
      "Move disk 1 from rod a to rod b\n",
      "Move disk 4 from rod a to rod c\n",
      "Move disk 1 from rod b to rod c\n",
      "Move disk 2 from rod b to rod a\n",
      "Move disk 1 from rod c to rod a\n",
      "Move disk 3 from rod b to rod c\n",
      "Move disk 1 from rod a to rod b\n",
      "Move disk 2 from rod a to rod c\n",
      "Move disk 1 from rod b to rod c\n"
     ]
    }
   ],
   "source": [
    "def towerofhanoi(n, source, aux, dest):\n",
    "    # Please add your code here\n",
    "    if n == 1:   print(\"Move disk 1 from rod\",source,\"to rod\",dest)\n",
    "        return\n",
    "    towerofhanoi(n-1, source, dest, aux)\n",
    "    print(\"Move disk\",n,\"from rod\",source,\"to rod\",dest)\n",
    "    towerofhanoi(n-1, aux, source, dest)\n",
    "    pass\n",
    "     \n",
    "\n",
    "n= int(input())\n",
    "towerofhanoi(n, 'a', 'b', 'c')\n",
    "\n"
   ]
  },
  {
   "cell_type": "code",
   "execution_count": 37,
   "metadata": {},
   "outputs": [
    {
     "name": "stdout",
     "output_type": "stream",
     "text": [
      "a b\n",
      "a c\n",
      "b c\n",
      "a b\n",
      "c a\n",
      "c b\n",
      "a b\n",
      "a c\n",
      "b c\n",
      "b a\n",
      "c a\n",
      "b c\n",
      "a b\n",
      "a c\n",
      "b c\n"
     ]
    }
   ],
   "source": [
    "def towerofhanoi(n, source, aux, dest):\n",
    "    # Please add your code here\n",
    "    if n == 0:\n",
    "        #print(source, dest)\n",
    "        return\n",
    "    towerofhanoi(n-1, source, dest, aux)\n",
    "    print(source, dest)\n",
    "    towerofhanoi(n-1, aux, source, dest)\n",
    "    pass\n",
    "\n",
    "#n= int(input())\n",
    "towerofhanoi(4, 'a', 'b', 'c')\n"
   ]
  }
 ],
 "metadata": {
  "kernelspec": {
   "display_name": "Python 3",
   "language": "python",
   "name": "python3"
  },
  "language_info": {
   "codemirror_mode": {
    "name": "ipython",
    "version": 3
   },
   "file_extension": ".py",
   "mimetype": "text/x-python",
   "name": "python",
   "nbconvert_exporter": "python",
   "pygments_lexer": "ipython3",
   "version": "3.8.5"
  }
 },
 "nbformat": 4,
 "nbformat_minor": 4
}
