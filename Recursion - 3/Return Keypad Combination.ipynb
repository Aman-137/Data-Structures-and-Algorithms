{
 "cells": [
  {
   "cell_type": "code",
   "execution_count": 2,
   "metadata": {},
   "outputs": [],
   "source": [
    "def getString(d):\n",
    "    \n",
    "    if d == 2:\n",
    "        return \"abc\"\n",
    "    if d == 3:\n",
    "        return \"def\"\n",
    "    if d == 4:\n",
    "        return \"ghi\"\n",
    "    if d == 5:\n",
    "        return \"jkl\"\n",
    "    if d == 6:\n",
    "        return \"mno\"\n",
    "    if d == 7:\n",
    "        return \"pqrs\"\n",
    "    if d == 8:\n",
    "        return \"tuv\"\n",
    "    if d == 9:\n",
    "        return \"wxyz\"\n",
    "    \n",
    "    return \" \""
   ]
  },
  {
   "cell_type": "code",
   "execution_count": 3,
   "metadata": {},
   "outputs": [],
   "source": [
    "def keypad(n):\n",
    "    \n",
    "    if n == 0:\n",
    "        output = []\n",
    "        output.append(\"\")\n",
    "        return output\n",
    "    \n",
    "    smallerNumber = n//10\n",
    "    lastDigit = n % 10\n",
    "    \n",
    "    smallerOutput = keypad(smallerNumber)\n",
    "    optionForLastDigit = getString(lastDigit)\n",
    "    \n",
    "    output = []\n",
    "    \n",
    "    for s in smallerOutput:\n",
    "        for c in optionForLastDigit:\n",
    "            \n",
    "            option = s + c\n",
    "            output.append(option)\n",
    "    \n",
    "    return output"
   ]
  },
  {
   "cell_type": "code",
   "execution_count": 4,
   "metadata": {},
   "outputs": [
    {
     "data": {
      "text/plain": [
       "['ad', 'ae', 'af', 'bd', 'be', 'bf', 'cd', 'ce', 'cf']"
      ]
     },
     "execution_count": 4,
     "metadata": {},
     "output_type": "execute_result"
    }
   ],
   "source": [
    "keypad(23)"
   ]
  },
  {
   "cell_type": "code",
   "execution_count": 6,
   "metadata": {},
   "outputs": [
    {
     "data": {
      "text/plain": [
       "(36,\n",
       " ['adp',\n",
       "  'adq',\n",
       "  'adr',\n",
       "  'ads',\n",
       "  'aep',\n",
       "  'aeq',\n",
       "  'aer',\n",
       "  'aes',\n",
       "  'afp',\n",
       "  'afq',\n",
       "  'afr',\n",
       "  'afs',\n",
       "  'bdp',\n",
       "  'bdq',\n",
       "  'bdr',\n",
       "  'bds',\n",
       "  'bep',\n",
       "  'beq',\n",
       "  'ber',\n",
       "  'bes',\n",
       "  'bfp',\n",
       "  'bfq',\n",
       "  'bfr',\n",
       "  'bfs',\n",
       "  'cdp',\n",
       "  'cdq',\n",
       "  'cdr',\n",
       "  'cds',\n",
       "  'cep',\n",
       "  'ceq',\n",
       "  'cer',\n",
       "  'ces',\n",
       "  'cfp',\n",
       "  'cfq',\n",
       "  'cfr',\n",
       "  'cfs'])"
      ]
     },
     "execution_count": 6,
     "metadata": {},
     "output_type": "execute_result"
    }
   ],
   "source": [
    "output = keypad(237)\n",
    "len(output), output"
   ]
  }
 ],
 "metadata": {
  "kernelspec": {
   "display_name": "Python 3",
   "language": "python",
   "name": "python3"
  },
  "language_info": {
   "codemirror_mode": {
    "name": "ipython",
    "version": 3
   },
   "file_extension": ".py",
   "mimetype": "text/x-python",
   "name": "python",
   "nbconvert_exporter": "python",
   "pygments_lexer": "ipython3",
   "version": "3.8.6rc1"
  }
 },
 "nbformat": 4,
 "nbformat_minor": 4
}
