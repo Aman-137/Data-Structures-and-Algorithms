{
 "cells": [
  {
   "cell_type": "code",
   "execution_count": 1,
   "metadata": {},
   "outputs": [],
   "source": [
    "def minList(l):\n",
    "    \n",
    "    if len(l) == 1:\n",
    "        return l[0]\n",
    "    \n",
    "    minSmallArray = minList(l[1:])\n",
    "    overallMin = min(minSmallArray, l[0])\n",
    "    \n",
    "    return overallMin"
   ]
  },
  {
   "cell_type": "code",
   "execution_count": 2,
   "metadata": {},
   "outputs": [],
   "source": [
    "def printMin(l, minSoFar = 10000):\n",
    "    \n",
    "    if len(l) == 0:\n",
    "        print(minSoFar)\n",
    "        return\n",
    "    newMin = min(minSoFar, l[0])\n",
    "    printMin(l[1:], newMin)"
   ]
  },
  {
   "cell_type": "code",
   "execution_count": 3,
   "metadata": {},
   "outputs": [
    {
     "name": "stdout",
     "output_type": "stream",
     "text": [
      "-4\n"
     ]
    }
   ],
   "source": [
    "printMin([1,2,3,4,-1,0,-2,-4,5,6])"
   ]
  }
 ],
 "metadata": {
  "kernelspec": {
   "display_name": "Python 3",
   "language": "python",
   "name": "python3"
  },
  "language_info": {
   "codemirror_mode": {
    "name": "ipython",
    "version": 3
   },
   "file_extension": ".py",
   "mimetype": "text/x-python",
   "name": "python",
   "nbconvert_exporter": "python",
   "pygments_lexer": "ipython3",
   "version": "3.8.6rc1"
  }
 },
 "nbformat": 4,
 "nbformat_minor": 4
}
