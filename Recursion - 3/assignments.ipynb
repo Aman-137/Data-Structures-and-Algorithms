{
 "cells": [
  {
   "cell_type": "code",
   "execution_count": 1,
   "metadata": {},
   "outputs": [
    {
     "name": "stdout",
     "output_type": "stream",
     "text": [
      "9\n",
      "5 12 3 17 1 18 15 3 17\n",
      "6\n",
      "5 1\n",
      "3 3\n"
     ]
    }
   ],
   "source": [
    "# Return subsets sum to K\n",
    "\n",
    "\n",
    "\n",
    "def subsum(arr,i,k,l):\n",
    "    if i==len(arr):\n",
    "        return []\n",
    "    elif arr[i]==k:\n",
    "        for j in l:\n",
    "            print(j,end=' ')\n",
    "        print(k)\n",
    "    if arr[i]<k:\n",
    "        l.append(arr[i])\n",
    "        subsum(arr,i+1,k-arr[i],l)\n",
    "        l.pop()\n",
    "        subsum(arr,i+1,k,l)\n",
    "    else:\n",
    "        subsum(arr,i+1,k,l)\n",
    "\n",
    "\n",
    "\n",
    "\n",
    "n = int(input())\n",
    "arr = [int(x) for x in input().split()]\n",
    "k = int(input())\n",
    "subsum(arr,0,k,[])"
   ]
  },
  {
   "cell_type": "code",
   "execution_count": 2,
   "metadata": {},
   "outputs": [
    {
     "name": "stdout",
     "output_type": "stream",
     "text": [
      "3\n",
      "15 20 12\n",
      "\n",
      "15 \n",
      "20 \n",
      "15 20 \n",
      "12 \n",
      "15 12 \n",
      "20 12 \n",
      "15 20 12 \n"
     ]
    }
   ],
   "source": [
    "#  Return subset of an array\n",
    "\n",
    "\n",
    "\n",
    "## Read input as specified in the question.\n",
    "## Print output as specified in the question.\n",
    "def subset(arr):\n",
    "    n = len(arr)\n",
    "    if (n <= 0):\n",
    "        output = [ [] ]\n",
    "        return output\n",
    "    \n",
    "    output = subset(arr[:n-1])\n",
    "    outputLen = len(output)\n",
    "    \n",
    "    for i in range(0, outputLen):\n",
    "        output.append(output[i].copy())\n",
    "        output[outputLen+i].append(arr[n-1])\n",
    "    \n",
    "    return output\n",
    "\n",
    "\n",
    "n = int(input())\n",
    "arr = list(int(i) for i in input().strip().split(' '))\n",
    "output = subset(arr)\n",
    "for lst in output:\n",
    "    for num in lst:\n",
    "        print(num, end=' ')\n",
    "        \n",
    "    print()"
   ]
  },
  {
   "cell_type": "code",
   "execution_count": 3,
   "metadata": {},
   "outputs": [
    {
     "name": "stdout",
     "output_type": "stream",
     "text": [
      "3\n",
      "15 20 12\n",
      "\n",
      "12 \n",
      "20 \n",
      "20 12 \n",
      "15 \n",
      "15 12 \n",
      "15 20 \n",
      "15 20 12 \n"
     ]
    }
   ],
   "source": [
    "#  Print Subsets of Array\n",
    "\n",
    "\n",
    "\n",
    "## Read input as specified in the question.\n",
    "## Print output as specified in the question.\n",
    "def printsubsetHelper(arr, lst):\n",
    "    \n",
    "    n = len(arr)\n",
    "    \n",
    "    if (n == 0):\n",
    "        for number in lst:\n",
    "            print(number, end=' ')\n",
    "        print()\n",
    "        return\n",
    "    \n",
    "    printsubsetHelper(arr[1:], lst)\n",
    "    newLst = lst.copy()\n",
    "    newLst.append(arr[0])\n",
    "    printsubsetHelper(arr[1:], newLst)\n",
    "    return\n",
    "\n",
    "\n",
    "def printsubset(arr):\n",
    "    printsubsetHelper(arr, [])\n",
    "    \n",
    "    \n",
    "n = int(input())\n",
    "arr = list(int(i) for i in input().strip().split(' '))\n",
    "printsubset(arr)"
   ]
  },
  {
   "cell_type": "code",
   "execution_count": null,
   "metadata": {},
   "outputs": [],
   "source": [
    "#  "
   ]
  }
 ],
 "metadata": {
  "kernelspec": {
   "display_name": "Python 3",
   "language": "python",
   "name": "python3"
  },
  "language_info": {
   "codemirror_mode": {
    "name": "ipython",
    "version": 3
   },
   "file_extension": ".py",
   "mimetype": "text/x-python",
   "name": "python",
   "nbconvert_exporter": "python",
   "pygments_lexer": "ipython3",
   "version": "3.8.6rc1"
  }
 },
 "nbformat": 4,
 "nbformat_minor": 4
}
